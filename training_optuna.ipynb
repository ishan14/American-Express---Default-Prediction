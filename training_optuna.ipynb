{
 "cells": [
  {
   "cell_type": "code",
   "execution_count": 1,
   "id": "a4de45ff",
   "metadata": {
    "_cell_guid": "b1076dfc-b9ad-4769-8c92-a6c4dae69d19",
    "_uuid": "8f2839f25d086af736a60e9eeb907d3b93b6e0e5",
    "execution": {
     "iopub.execute_input": "2022-07-31T05:36:57.144271Z",
     "iopub.status.busy": "2022-07-31T05:36:57.143836Z",
     "iopub.status.idle": "2022-07-31T05:36:57.162058Z",
     "shell.execute_reply": "2022-07-31T05:36:57.161198Z"
    },
    "papermill": {
     "duration": 0.028243,
     "end_time": "2022-07-31T05:36:57.164595",
     "exception": false,
     "start_time": "2022-07-31T05:36:57.136352",
     "status": "completed"
    },
    "tags": []
   },
   "outputs": [
    {
     "name": "stdout",
     "output_type": "stream",
     "text": [
      "/kaggle/input/amex-credit/918_features_wo_imputation_2.parquet\n",
      "/kaggle/input/amex-credit/test_918_features_wo_imputation_2.csv\n"
     ]
    }
   ],
   "source": [
    "# This Python 3 environment comes with many helpful analytics libraries installed\n",
    "# It is defined by the kaggle/python Docker image: https://github.com/kaggle/docker-python\n",
    "# For example, here's several helpful packages to load\n",
    "\n",
    "import numpy as np # linear algebra\n",
    "import pandas as pd # data processing, CSV file I/O (e.g. pd.read_csv)\n",
    "\n",
    "# Input data files are available in the read-only \"../input/\" directory\n",
    "# For example, running this (by clicking run or pressing Shift+Enter) will list all files under the input directory\n",
    "\n",
    "import os\n",
    "for dirname, _, filenames in os.walk('/kaggle/input'):\n",
    "    for filename in filenames:\n",
    "        print(os.path.join(dirname, filename))\n",
    "\n",
    "# You can write up to 20GB to the current directory (/kaggle/working/) that gets preserved as output when you create a version using \"Save & Run All\" \n",
    "# You can also write temporary files to /kaggle/temp/, but they won't be saved outside of the current session"
   ]
  },
  {
   "cell_type": "code",
   "execution_count": 2,
   "id": "c8137a7b",
   "metadata": {
    "execution": {
     "iopub.execute_input": "2022-07-31T05:36:57.176333Z",
     "iopub.status.busy": "2022-07-31T05:36:57.175648Z",
     "iopub.status.idle": "2022-07-31T05:37:00.880570Z",
     "shell.execute_reply": "2022-07-31T05:37:00.879656Z"
    },
    "papermill": {
     "duration": 3.713034,
     "end_time": "2022-07-31T05:37:00.882839",
     "exception": false,
     "start_time": "2022-07-31T05:36:57.169805",
     "status": "completed"
    },
    "tags": []
   },
   "outputs": [],
   "source": [
    "import cudf\n",
    "import joblib\n",
    "from sklearn.model_selection import KFold\n",
    "from sklearn.model_selection import train_test_split\n",
    "import xgboost as xgb\n",
    "import gc\n",
    "import optuna\n",
    "import time"
   ]
  },
  {
   "cell_type": "code",
   "execution_count": 3,
   "id": "0eabfec7",
   "metadata": {
    "execution": {
     "iopub.execute_input": "2022-07-31T05:37:00.895113Z",
     "iopub.status.busy": "2022-07-31T05:37:00.894841Z",
     "iopub.status.idle": "2022-07-31T05:37:19.267257Z",
     "shell.execute_reply": "2022-07-31T05:37:19.266321Z"
    },
    "papermill": {
     "duration": 18.381236,
     "end_time": "2022-07-31T05:37:19.269519",
     "exception": false,
     "start_time": "2022-07-31T05:37:00.888283",
     "status": "completed"
    },
    "tags": []
   },
   "outputs": [],
   "source": [
    "train=cudf.read_parquet(\"/kaggle/input/amex-credit/918_features_wo_imputation_2.parquet\")\n",
    "FEATURES = train.columns[1:-1]"
   ]
  },
  {
   "cell_type": "code",
   "execution_count": 4,
   "id": "e327c301",
   "metadata": {
    "execution": {
     "iopub.execute_input": "2022-07-31T05:37:19.281199Z",
     "iopub.status.busy": "2022-07-31T05:37:19.280925Z",
     "iopub.status.idle": "2022-07-31T05:37:19.290265Z",
     "shell.execute_reply": "2022-07-31T05:37:19.289425Z"
    },
    "papermill": {
     "duration": 0.017292,
     "end_time": "2022-07-31T05:37:19.292185",
     "exception": false,
     "start_time": "2022-07-31T05:37:19.274893",
     "status": "completed"
    },
    "tags": []
   },
   "outputs": [],
   "source": [
    "class IterLoadForDMatrix(xgb.core.DataIter):\n",
    "    def __init__(self, df=None, features=None, target=None, batch_size=256*1024):\n",
    "        self.features = features\n",
    "        self.target = target\n",
    "        self.df = df\n",
    "        self.it = 0 # set iterator to 0\n",
    "        self.batch_size = batch_size\n",
    "        self.batches = int( np.ceil( len(df) / self.batch_size ) )\n",
    "        super().__init__()\n",
    "\n",
    "    def reset(self):\n",
    "        '''Reset the iterator'''\n",
    "        self.it = 0\n",
    "\n",
    "    def next(self, input_data):\n",
    "        '''Yield next batch of data.'''\n",
    "        if self.it == self.batches:\n",
    "            return 0 # Return 0 when there's no more batch.\n",
    "        \n",
    "        a = self.it * self.batch_size\n",
    "        b = min( (self.it + 1) * self.batch_size, len(self.df) )\n",
    "        dt = cudf.DataFrame(self.df.iloc[a:b])\n",
    "        input_data(data=dt[self.features], label=dt[self.target]) #, weight=dt['weight'])\n",
    "        self.it += 1\n",
    "        return 1\n"
   ]
  },
  {
   "cell_type": "code",
   "execution_count": 5,
   "id": "8c8c0ba8",
   "metadata": {
    "execution": {
     "iopub.execute_input": "2022-07-31T05:37:19.303238Z",
     "iopub.status.busy": "2022-07-31T05:37:19.302987Z",
     "iopub.status.idle": "2022-07-31T05:37:19.312185Z",
     "shell.execute_reply": "2022-07-31T05:37:19.311179Z"
    },
    "papermill": {
     "duration": 0.017231,
     "end_time": "2022-07-31T05:37:19.314389",
     "exception": false,
     "start_time": "2022-07-31T05:37:19.297158",
     "status": "completed"
    },
    "tags": []
   },
   "outputs": [],
   "source": [
    "def amex_metric_mod(y_true, y_pred):\n",
    "\n",
    "    labels     = np.transpose(np.array([y_true, y_pred]))\n",
    "    labels     = labels[labels[:, 1].argsort()[::-1]]\n",
    "    weights    = np.where(labels[:,0]==0, 20, 1)\n",
    "    cut_vals   = labels[np.cumsum(weights) <= int(0.04 * np.sum(weights))]\n",
    "    top_four   = np.sum(cut_vals[:,0]) / np.sum(labels[:,0])\n",
    "\n",
    "    gini = [0,0]\n",
    "    for i in [1,0]:\n",
    "        labels         = np.transpose(np.array([y_true, y_pred]))\n",
    "        labels         = labels[labels[:, i].argsort()[::-1]]\n",
    "        weight         = np.where(labels[:,0]==0, 20, 1)\n",
    "        weight_random  = np.cumsum(weight / np.sum(weight))\n",
    "        total_pos      = np.sum(labels[:, 0] *  weight)\n",
    "        cum_pos_found  = np.cumsum(labels[:, 0] * weight)\n",
    "        lorentz        = cum_pos_found / total_pos\n",
    "        gini[i]        = np.sum((lorentz - weight_random) * weight)\n",
    "\n",
    "    return 0.5 * (gini[1]/gini[0] + top_four)\n"
   ]
  },
  {
   "cell_type": "code",
   "execution_count": 6,
   "id": "cb55c6cb",
   "metadata": {
    "execution": {
     "iopub.execute_input": "2022-07-31T05:37:19.325712Z",
     "iopub.status.busy": "2022-07-31T05:37:19.325405Z",
     "iopub.status.idle": "2022-07-31T05:37:25.125829Z",
     "shell.execute_reply": "2022-07-31T05:37:25.124856Z"
    },
    "papermill": {
     "duration": 5.808763,
     "end_time": "2022-07-31T05:37:25.128120",
     "exception": false,
     "start_time": "2022-07-31T05:37:19.319357",
     "status": "completed"
    },
    "tags": []
   },
   "outputs": [],
   "source": [
    "train = train.to_pandas()"
   ]
  },
  {
   "cell_type": "markdown",
   "id": "b893a290",
   "metadata": {
    "papermill": {
     "duration": 0.005516,
     "end_time": "2022-07-31T05:37:25.139083",
     "exception": false,
     "start_time": "2022-07-31T05:37:25.133567",
     "status": "completed"
    },
    "tags": []
   },
   "source": [
    "#### KFold Optuna"
   ]
  },
  {
   "cell_type": "code",
   "execution_count": 7,
   "id": "dd2463bd",
   "metadata": {
    "execution": {
     "iopub.execute_input": "2022-07-31T05:37:25.151188Z",
     "iopub.status.busy": "2022-07-31T05:37:25.150854Z",
     "iopub.status.idle": "2022-07-31T05:37:25.171265Z",
     "shell.execute_reply": "2022-07-31T05:37:25.170434Z"
    },
    "papermill": {
     "duration": 0.028829,
     "end_time": "2022-07-31T05:37:25.173108",
     "exception": false,
     "start_time": "2022-07-31T05:37:25.144279",
     "status": "completed"
    },
    "tags": []
   },
   "outputs": [],
   "source": [
    "def objective(trial):\n",
    "    \n",
    "    importances = []\n",
    "    oof = []\n",
    "    \n",
    "    TRAIN_SUBSAMPLE = 1.0\n",
    "    gc.collect()\n",
    "\n",
    "    FOLDS = 5\n",
    "    SEED = 42\n",
    "    skf = KFold(n_splits = FOLDS, shuffle = True, random_state = SEED)\n",
    "\n",
    "\n",
    "    for fold, (train_idx, valid_idx) in enumerate(skf.split(train, train.target)):\n",
    "\n",
    "        if TRAIN_SUBSAMPLE < 1.0:\n",
    "            np.random.seed(SEED)\n",
    "            train_idx = np.random.choice(train_idx, int(len(train_idx) * TRAIN_SUBSAMPLE), replace = False)\n",
    "            np.random.seed(SEED)\n",
    "\n",
    "        print('#'*25)\n",
    "        print('### Fold', fold+1)\n",
    "        print('### Train size',len(train_idx),'Valid size',len(valid_idx))\n",
    "        print(f'### Training with {int(TRAIN_SUBSAMPLE*100)}% fold data...')\n",
    "        print('#'*25)\n",
    "\n",
    "        Xy_train = IterLoadForDMatrix(train.loc[train_idx], FEATURES, 'target')\n",
    "        X_valid = train.loc[valid_idx, FEATURES]\n",
    "        y_valid = train.loc[valid_idx, 'target']\n",
    "\n",
    "        dtrain = xgb.DeviceQuantileDMatrix(Xy_train, max_bin=256, enable_categorical=True)\n",
    "        dvalid = xgb.DMatrix(data=X_valid, label=y_valid)\n",
    "        '''\n",
    "        xgb_parms = {'max_depth': 4,\n",
    "             'learning_rate':0.05,\n",
    "             'subsample': 0.8,\n",
    "             'colsample_bytree': 0.6,\n",
    "             'eval_metric':'logloss',\n",
    "             'objective': 'binary:logistic',\n",
    "             'tree_method': 'gpu_hist',\n",
    "             'predictor': 'gpu_predictor',\n",
    "             'random_state': SEED}\n",
    "        '''\n",
    "        xgb_params = {\"verbosity\": 0,\n",
    "                      \"objective\": \"binary:logistic\",\n",
    "                      \"eval_metric\": \"logloss\",\n",
    "                      \"learning_rate\": trial.suggest_loguniform(\"learning_rate\", 0.005, 0.05),\n",
    "                      \"colsample_bytree\": trial.suggest_loguniform(\"colsample_bytree\", 0.2, 0.6),\n",
    "                      \"tree_method\": \"gpu_hist\",\n",
    "                      \"predictor\": \"gpu_predictor\",\n",
    "                      \"gpu_id\": 0,\n",
    "                      \"booster\": trial.suggest_categorical(\"booster\", [\"gbtree\", \"gblinear\", \"dart\"]),\n",
    "                      \"lambda\": trial.suggest_loguniform(\"lambda\", 1e-8, 1.0),\n",
    "                      \"alpha\": trial.suggest_loguniform(\"alpha\", 1e-8, 1.0),\n",
    "                      \"random_state\": SEED}\n",
    "\n",
    "        if xgb_params[\"booster\"] == \"gbtree\" or xgb_params[\"booster\"] == \"dart\":\n",
    "            xgb_params[\"max_depth\"] = trial.suggest_int(\"max_depth\", 1, 5)\n",
    "            xgb_params[\"eta\"] = trial.suggest_loguniform(\"eta\", 1e-8, 1.0)\n",
    "            xgb_params[\"gamma\"] = trial.suggest_loguniform(\"gamma\", 1e-8, 1.0)\n",
    "            xgb_params[\"grow_policy\"] = trial.suggest_categorical(\"grow_policy\", [\"depthwise\", \"lossguide\"])\n",
    "        if xgb_params[\"booster\"] == \"dart\":\n",
    "            xgb_params[\"sample_type\"] = trial.suggest_categorical(\"sample_type\", [\"uniform\", \"weighted\"])\n",
    "            xgb_params[\"normalize_type\"] = trial.suggest_categorical(\"normalize_type\", [\"tree\", \"forest\"])\n",
    "            xgb_params[\"rate_drop\"] = trial.suggest_loguniform(\"rate_drop\", 1e-8, 1.0)\n",
    "            xgb_params[\"skip_drop\"] = trial.suggest_loguniform(\"skip_drop\", 1e-8, 1.0)\n",
    "            \n",
    "#         pruning_callback = optuna.integration.XGBoostPruningCallback(trial, \"eval-logloss\")\n",
    "\n",
    "\n",
    "        model = xgb.train(xgb_params, \n",
    "                          dtrain = dtrain,\n",
    "                          evals = [(dtrain, 'train'), (dvalid, 'valid')],\n",
    "                          num_boost_round = 9999,\n",
    "                          early_stopping_rounds = 100,\n",
    "                          verbose_eval = 100)\n",
    "\n",
    "        model.save_model(f'XBG_918_features_wo_imputation_fold{fold}.xgb')\n",
    "\n",
    "        dd = model.get_score(importance_type = 'weight')\n",
    "        df = pd.DataFrame({'feature': dd.keys(), f'importance_{fold}': dd.values()})\n",
    "        importances.append(df)\n",
    "\n",
    "        oof_preds = model.predict(dvalid)\n",
    "        acc = amex_metric_mod(y_valid.values, oof_preds)\n",
    "        print('Kaggle Metric = ', acc, '\\n')\n",
    "\n",
    "        df = train.loc[valid_idx, ['customer_ID', 'target']].copy()\n",
    "        df['oof_pred'] = oof_preds\n",
    "        oof.append(df)\n",
    "\n",
    "        del dtrain, Xy_train, dd, df\n",
    "        del X_valid, y_valid, dvalid, model\n",
    "        _ = gc.collect()\n",
    "        \n",
    "\n",
    "    print('#'*25)\n",
    "    oof = pd.concat(oof, axis=0, ignore_index=True).set_index('customer_ID')\n",
    "    acc = amex_metric_mod(oof.target.values, oof.oof_pred.values)\n",
    "    print('OVERALL CV Kaggle Metric = ', acc)\n",
    "    \n",
    "    return acc\n",
    "    "
   ]
  },
  {
   "cell_type": "markdown",
   "id": "4238f4e3",
   "metadata": {
    "papermill": {
     "duration": 0.00483,
     "end_time": "2022-07-31T05:37:25.219838",
     "exception": false,
     "start_time": "2022-07-31T05:37:25.215008",
     "status": "completed"
    },
    "tags": []
   },
   "source": [
    "#### Simple split Optuna "
   ]
  },
  {
   "cell_type": "code",
   "execution_count": 10,
   "id": "ddbd16ec",
   "metadata": {
    "execution": {
     "iopub.execute_input": "2022-07-31T05:37:25.231519Z",
     "iopub.status.busy": "2022-07-31T05:37:25.230942Z",
     "iopub.status.idle": "2022-07-31T05:37:25.245613Z",
     "shell.execute_reply": "2022-07-31T05:37:25.244812Z"
    },
    "papermill": {
     "duration": 0.022546,
     "end_time": "2022-07-31T05:37:25.247371",
     "exception": false,
     "start_time": "2022-07-31T05:37:25.224825",
     "status": "completed"
    },
    "tags": []
   },
   "outputs": [],
   "source": [
    "def objective2(trial):\n",
    "    \n",
    "    gc.collect()\n",
    "\n",
    "    SEED = 42\n",
    "    \n",
    "    X_train, X_valid, y_train, y_valid = train_test_split(train, train.target, test_size = 0.33, random_state = SEED)\n",
    "\n",
    "    Xy_train = IterLoadForDMatrix(X_train, FEATURES, 'target')\n",
    "    X_valid = X_valid.loc[:, FEATURES]\n",
    "\n",
    "    dtrain = xgb.DeviceQuantileDMatrix(Xy_train, max_bin=256, enable_categorical=True)\n",
    "    dvalid = xgb.DMatrix(data=X_valid, label=y_valid)\n",
    "    '''\n",
    "    xgb_parms = {'max_depth': 4,\n",
    "         'learning_rate':0.05,\n",
    "         'subsample': 0.8,\n",
    "         'colsample_bytree': 0.6,\n",
    "         'eval_metric':'logloss',\n",
    "         'objective': 'binary:logistic',\n",
    "         'tree_method': 'gpu_hist',\n",
    "         'predictor': 'gpu_predictor',\n",
    "         'random_state': SEED}\n",
    "    '''\n",
    "    xgb_params = {\"verbosity\": 0,\n",
    "                  \"objective\": \"binary:logistic\",\n",
    "                  \"eval_metric\": \"logloss\",\n",
    "                  \"learning_rate\": trial.suggest_loguniform(\"learning_rate\", 0.005, 0.05),\n",
    "                  \"colsample_bytree\": trial.suggest_loguniform(\"colsample_bytree\", 0.2, 0.6),\n",
    "                  \"tree_method\": \"gpu_hist\",\n",
    "                  \"predictor\": \"gpu_predictor\",\n",
    "                  \"gpu_id\": 0,\n",
    "                  \"booster\": trial.suggest_categorical(\"booster\", [\"gbtree\", \"gblinear\", \"dart\"]),\n",
    "                  \"lambda\": trial.suggest_loguniform(\"lambda\", 1e-8, 1.0),\n",
    "                  \"alpha\": trial.suggest_loguniform(\"alpha\", 1e-8, 1.0),\n",
    "                  \"random_state\": SEED}\n",
    "\n",
    "    if xgb_params[\"booster\"] == \"gbtree\" or xgb_params[\"booster\"] == \"dart\":\n",
    "        xgb_params[\"max_depth\"] = trial.suggest_int(\"max_depth\", 1, 5)\n",
    "        xgb_params[\"eta\"] = trial.suggest_loguniform(\"eta\", 1e-8, 1.0)\n",
    "        xgb_params[\"gamma\"] = trial.suggest_loguniform(\"gamma\", 1e-8, 1.0)\n",
    "        xgb_params[\"grow_policy\"] = trial.suggest_categorical(\"grow_policy\", [\"depthwise\", \"lossguide\"])\n",
    "    if xgb_params[\"booster\"] == \"dart\":\n",
    "        xgb_params[\"sample_type\"] = trial.suggest_categorical(\"sample_type\", [\"uniform\", \"weighted\"])\n",
    "        xgb_params[\"normalize_type\"] = trial.suggest_categorical(\"normalize_type\", [\"tree\", \"forest\"])\n",
    "        xgb_params[\"rate_drop\"] = trial.suggest_loguniform(\"rate_drop\", 1e-8, 1.0)\n",
    "        xgb_params[\"skip_drop\"] = trial.suggest_loguniform(\"skip_drop\", 1e-8, 1.0)\n",
    "\n",
    "#         pruning_callback = optuna.integration.XGBoostPruningCallback(trial, \"eval-logloss\")\n",
    "\n",
    "    start = time.time()\n",
    "    model = xgb.train(xgb_params, \n",
    "                      dtrain = dtrain,\n",
    "                      evals = [(dtrain, 'train'), (dvalid, 'valid')],\n",
    "                      num_boost_round = 9999,\n",
    "                      early_stopping_rounds = 100,\n",
    "                      verbose_eval = 100)\n",
    "    print(f\"Training time: {time.time() - start}\")\n",
    "\n",
    "    model.save_model(f'XBG_918_features_wo_imputation.xgb')\n",
    "\n",
    "\n",
    "    oof_preds = model.predict(dvalid)\n",
    "    acc = amex_metric_mod(y_valid.values, oof_preds)\n",
    "    print('Kaggle Metric = ', acc, '\\n')\n",
    "\n",
    "    del dtrain, Xy_train#, dd, df\n",
    "    del X_valid, y_valid, dvalid, model\n",
    "    _ = gc.collect()\n",
    "\n",
    "    print('OVERALL CV Kaggle Metric = ', acc)\n",
    "    \n",
    "    return acc\n",
    "    "
   ]
  },
  {
   "cell_type": "code",
   "execution_count": 11,
   "id": "97b7e3d4",
   "metadata": {
    "execution": {
     "iopub.execute_input": "2022-07-31T05:37:25.258957Z",
     "iopub.status.busy": "2022-07-31T05:37:25.258113Z"
    },
    "papermill": {
     "duration": null,
     "end_time": null,
     "exception": false,
     "start_time": "2022-07-31T05:37:25.252403",
     "status": "running"
    },
    "tags": []
   },
   "outputs": [
    {
     "name": "stderr",
     "output_type": "stream",
     "text": [
      "\u001b[32m[I 2022-07-31 05:37:25,261]\u001b[0m A new study created in memory with name: no-name-d6d15bde-ff55-42aa-bdaa-ee430620f878\u001b[0m\n"
     ]
    },
    {
     "name": "stdout",
     "output_type": "stream",
     "text": [
      "[0]\ttrain-logloss:0.68605\tvalid-logloss:0.68605\n"
     ]
    },
    {
     "name": "stdout",
     "output_type": "stream",
     "text": [
      "[100]\ttrain-logloss:0.36340\tvalid-logloss:0.36374\n"
     ]
    },
    {
     "name": "stdout",
     "output_type": "stream",
     "text": [
      "[200]\ttrain-logloss:0.28535\tvalid-logloss:0.28615\n"
     ]
    },
    {
     "name": "stdout",
     "output_type": "stream",
     "text": [
      "[300]\ttrain-logloss:0.25859\tvalid-logloss:0.25997\n"
     ]
    },
    {
     "name": "stdout",
     "output_type": "stream",
     "text": [
      "[400]\ttrain-logloss:0.24608\tvalid-logloss:0.24795\n"
     ]
    },
    {
     "name": "stdout",
     "output_type": "stream",
     "text": [
      "[500]\ttrain-logloss:0.23899\tvalid-logloss:0.24131\n"
     ]
    },
    {
     "name": "stdout",
     "output_type": "stream",
     "text": [
      "[600]\ttrain-logloss:0.23448\tvalid-logloss:0.23724\n"
     ]
    },
    {
     "name": "stdout",
     "output_type": "stream",
     "text": [
      "[700]\ttrain-logloss:0.23128\tvalid-logloss:0.23443\n"
     ]
    },
    {
     "name": "stdout",
     "output_type": "stream",
     "text": [
      "[800]\ttrain-logloss:0.22892\tvalid-logloss:0.23246\n"
     ]
    },
    {
     "name": "stdout",
     "output_type": "stream",
     "text": [
      "[900]\ttrain-logloss:0.22702\tvalid-logloss:0.23090\n"
     ]
    },
    {
     "name": "stdout",
     "output_type": "stream",
     "text": [
      "[1000]\ttrain-logloss:0.22545\tvalid-logloss:0.22966\n"
     ]
    },
    {
     "name": "stdout",
     "output_type": "stream",
     "text": [
      "[1100]\ttrain-logloss:0.22407\tvalid-logloss:0.22861\n"
     ]
    },
    {
     "name": "stdout",
     "output_type": "stream",
     "text": [
      "[1200]\ttrain-logloss:0.22285\tvalid-logloss:0.22771\n"
     ]
    },
    {
     "name": "stdout",
     "output_type": "stream",
     "text": [
      "[1300]\ttrain-logloss:0.22176\tvalid-logloss:0.22691\n"
     ]
    },
    {
     "name": "stdout",
     "output_type": "stream",
     "text": [
      "[1400]\ttrain-logloss:0.22078\tvalid-logloss:0.22621\n"
     ]
    },
    {
     "name": "stdout",
     "output_type": "stream",
     "text": [
      "[1500]\ttrain-logloss:0.21990\tvalid-logloss:0.22561\n"
     ]
    },
    {
     "name": "stdout",
     "output_type": "stream",
     "text": [
      "[1600]\ttrain-logloss:0.21910\tvalid-logloss:0.22511\n"
     ]
    },
    {
     "name": "stdout",
     "output_type": "stream",
     "text": [
      "[1700]\ttrain-logloss:0.21835\tvalid-logloss:0.22465\n"
     ]
    },
    {
     "name": "stdout",
     "output_type": "stream",
     "text": [
      "[1800]\ttrain-logloss:0.21766\tvalid-logloss:0.22423\n"
     ]
    },
    {
     "name": "stdout",
     "output_type": "stream",
     "text": [
      "[1900]\ttrain-logloss:0.21702\tvalid-logloss:0.22387\n"
     ]
    },
    {
     "name": "stdout",
     "output_type": "stream",
     "text": [
      "[2000]\ttrain-logloss:0.21640\tvalid-logloss:0.22354\n"
     ]
    },
    {
     "name": "stdout",
     "output_type": "stream",
     "text": [
      "[2100]\ttrain-logloss:0.21584\tvalid-logloss:0.22326\n"
     ]
    },
    {
     "name": "stdout",
     "output_type": "stream",
     "text": [
      "[2200]\ttrain-logloss:0.21530\tvalid-logloss:0.22299\n"
     ]
    },
    {
     "name": "stdout",
     "output_type": "stream",
     "text": [
      "[2300]\ttrain-logloss:0.21480\tvalid-logloss:0.22277\n"
     ]
    },
    {
     "name": "stdout",
     "output_type": "stream",
     "text": [
      "[2400]\ttrain-logloss:0.21428\tvalid-logloss:0.22254\n"
     ]
    },
    {
     "name": "stdout",
     "output_type": "stream",
     "text": [
      "[2500]\ttrain-logloss:0.21381\tvalid-logloss:0.22235\n"
     ]
    },
    {
     "name": "stdout",
     "output_type": "stream",
     "text": [
      "[2600]\ttrain-logloss:0.21333\tvalid-logloss:0.22216\n"
     ]
    },
    {
     "name": "stdout",
     "output_type": "stream",
     "text": [
      "[2700]\ttrain-logloss:0.21289\tvalid-logloss:0.22201\n"
     ]
    },
    {
     "name": "stdout",
     "output_type": "stream",
     "text": [
      "[2800]\ttrain-logloss:0.21244\tvalid-logloss:0.22186\n"
     ]
    },
    {
     "name": "stdout",
     "output_type": "stream",
     "text": [
      "[2900]\ttrain-logloss:0.21201\tvalid-logloss:0.22171\n"
     ]
    },
    {
     "name": "stdout",
     "output_type": "stream",
     "text": [
      "[3000]\ttrain-logloss:0.21160\tvalid-logloss:0.22159\n"
     ]
    },
    {
     "name": "stdout",
     "output_type": "stream",
     "text": [
      "[3100]\ttrain-logloss:0.21120\tvalid-logloss:0.22148\n"
     ]
    },
    {
     "name": "stdout",
     "output_type": "stream",
     "text": [
      "[3200]\ttrain-logloss:0.21081\tvalid-logloss:0.22136\n"
     ]
    },
    {
     "name": "stdout",
     "output_type": "stream",
     "text": [
      "[3300]\ttrain-logloss:0.21044\tvalid-logloss:0.22127\n"
     ]
    },
    {
     "name": "stdout",
     "output_type": "stream",
     "text": [
      "[3400]\ttrain-logloss:0.21007\tvalid-logloss:0.22118\n"
     ]
    },
    {
     "name": "stdout",
     "output_type": "stream",
     "text": [
      "[3500]\ttrain-logloss:0.20971\tvalid-logloss:0.22108\n"
     ]
    },
    {
     "name": "stdout",
     "output_type": "stream",
     "text": [
      "[3600]\ttrain-logloss:0.20934\tvalid-logloss:0.22100\n"
     ]
    },
    {
     "name": "stdout",
     "output_type": "stream",
     "text": [
      "[3700]\ttrain-logloss:0.20899\tvalid-logloss:0.22091\n"
     ]
    },
    {
     "name": "stdout",
     "output_type": "stream",
     "text": [
      "[3800]\ttrain-logloss:0.20863\tvalid-logloss:0.22082\n"
     ]
    },
    {
     "name": "stdout",
     "output_type": "stream",
     "text": [
      "[3900]\ttrain-logloss:0.20828\tvalid-logloss:0.22076\n"
     ]
    },
    {
     "name": "stdout",
     "output_type": "stream",
     "text": [
      "[4000]\ttrain-logloss:0.20794\tvalid-logloss:0.22069\n"
     ]
    },
    {
     "name": "stdout",
     "output_type": "stream",
     "text": [
      "[4100]\ttrain-logloss:0.20759\tvalid-logloss:0.22062\n"
     ]
    },
    {
     "name": "stdout",
     "output_type": "stream",
     "text": [
      "[4200]\ttrain-logloss:0.20725\tvalid-logloss:0.22056\n"
     ]
    },
    {
     "name": "stdout",
     "output_type": "stream",
     "text": [
      "[4300]\ttrain-logloss:0.20692\tvalid-logloss:0.22051\n"
     ]
    },
    {
     "name": "stdout",
     "output_type": "stream",
     "text": [
      "[4400]\ttrain-logloss:0.20660\tvalid-logloss:0.22048\n"
     ]
    },
    {
     "name": "stdout",
     "output_type": "stream",
     "text": [
      "[4500]\ttrain-logloss:0.20627\tvalid-logloss:0.22041\n"
     ]
    },
    {
     "name": "stdout",
     "output_type": "stream",
     "text": [
      "[4600]\ttrain-logloss:0.20595\tvalid-logloss:0.22036\n"
     ]
    },
    {
     "name": "stdout",
     "output_type": "stream",
     "text": [
      "[4700]\ttrain-logloss:0.20564\tvalid-logloss:0.22031\n"
     ]
    },
    {
     "name": "stdout",
     "output_type": "stream",
     "text": [
      "[4800]\ttrain-logloss:0.20532\tvalid-logloss:0.22026\n"
     ]
    },
    {
     "name": "stdout",
     "output_type": "stream",
     "text": [
      "[4900]\ttrain-logloss:0.20500\tvalid-logloss:0.22022\n"
     ]
    },
    {
     "name": "stdout",
     "output_type": "stream",
     "text": [
      "[5000]\ttrain-logloss:0.20469\tvalid-logloss:0.22018\n"
     ]
    },
    {
     "name": "stdout",
     "output_type": "stream",
     "text": [
      "[5100]\ttrain-logloss:0.20439\tvalid-logloss:0.22015\n"
     ]
    },
    {
     "name": "stdout",
     "output_type": "stream",
     "text": [
      "[5200]\ttrain-logloss:0.20409\tvalid-logloss:0.22011\n"
     ]
    },
    {
     "name": "stdout",
     "output_type": "stream",
     "text": [
      "[5300]\ttrain-logloss:0.20379\tvalid-logloss:0.22008\n"
     ]
    },
    {
     "name": "stdout",
     "output_type": "stream",
     "text": [
      "[5400]\ttrain-logloss:0.20348\tvalid-logloss:0.22004\n"
     ]
    },
    {
     "name": "stdout",
     "output_type": "stream",
     "text": [
      "[5500]\ttrain-logloss:0.20318\tvalid-logloss:0.22000\n"
     ]
    },
    {
     "name": "stdout",
     "output_type": "stream",
     "text": [
      "[5600]\ttrain-logloss:0.20287\tvalid-logloss:0.21996\n"
     ]
    },
    {
     "name": "stdout",
     "output_type": "stream",
     "text": [
      "[5700]\ttrain-logloss:0.20258\tvalid-logloss:0.21993\n"
     ]
    },
    {
     "name": "stdout",
     "output_type": "stream",
     "text": [
      "[5800]\ttrain-logloss:0.20229\tvalid-logloss:0.21992\n"
     ]
    },
    {
     "name": "stdout",
     "output_type": "stream",
     "text": [
      "[5900]\ttrain-logloss:0.20200\tvalid-logloss:0.21989\n"
     ]
    },
    {
     "name": "stdout",
     "output_type": "stream",
     "text": [
      "[6000]\ttrain-logloss:0.20172\tvalid-logloss:0.21987\n"
     ]
    },
    {
     "name": "stdout",
     "output_type": "stream",
     "text": [
      "[6100]\ttrain-logloss:0.20144\tvalid-logloss:0.21985\n"
     ]
    },
    {
     "name": "stdout",
     "output_type": "stream",
     "text": [
      "[6200]\ttrain-logloss:0.20116\tvalid-logloss:0.21983\n"
     ]
    },
    {
     "name": "stdout",
     "output_type": "stream",
     "text": [
      "[6300]\ttrain-logloss:0.20088\tvalid-logloss:0.21982\n"
     ]
    },
    {
     "name": "stdout",
     "output_type": "stream",
     "text": [
      "[6400]\ttrain-logloss:0.20060\tvalid-logloss:0.21980\n"
     ]
    },
    {
     "name": "stdout",
     "output_type": "stream",
     "text": [
      "[6500]\ttrain-logloss:0.20031\tvalid-logloss:0.21978\n"
     ]
    },
    {
     "name": "stdout",
     "output_type": "stream",
     "text": [
      "[6600]\ttrain-logloss:0.20003\tvalid-logloss:0.21975\n"
     ]
    },
    {
     "name": "stdout",
     "output_type": "stream",
     "text": [
      "[6700]\ttrain-logloss:0.19975\tvalid-logloss:0.21975\n"
     ]
    },
    {
     "name": "stdout",
     "output_type": "stream",
     "text": [
      "[6800]\ttrain-logloss:0.19948\tvalid-logloss:0.21974\n"
     ]
    },
    {
     "name": "stdout",
     "output_type": "stream",
     "text": [
      "[6900]\ttrain-logloss:0.19921\tvalid-logloss:0.21972\n"
     ]
    },
    {
     "name": "stdout",
     "output_type": "stream",
     "text": [
      "[7000]\ttrain-logloss:0.19894\tvalid-logloss:0.21970\n"
     ]
    },
    {
     "name": "stdout",
     "output_type": "stream",
     "text": [
      "[7100]\ttrain-logloss:0.19866\tvalid-logloss:0.21969\n"
     ]
    },
    {
     "name": "stdout",
     "output_type": "stream",
     "text": [
      "[7200]\ttrain-logloss:0.19840\tvalid-logloss:0.21967\n"
     ]
    },
    {
     "name": "stdout",
     "output_type": "stream",
     "text": [
      "[7300]\ttrain-logloss:0.19812\tvalid-logloss:0.21964\n"
     ]
    },
    {
     "name": "stdout",
     "output_type": "stream",
     "text": [
      "[7400]\ttrain-logloss:0.19786\tvalid-logloss:0.21962\n"
     ]
    },
    {
     "name": "stdout",
     "output_type": "stream",
     "text": [
      "[7500]\ttrain-logloss:0.19758\tvalid-logloss:0.21960\n"
     ]
    },
    {
     "name": "stdout",
     "output_type": "stream",
     "text": [
      "[7600]\ttrain-logloss:0.19732\tvalid-logloss:0.21957\n"
     ]
    },
    {
     "name": "stdout",
     "output_type": "stream",
     "text": [
      "[7700]\ttrain-logloss:0.19706\tvalid-logloss:0.21955\n"
     ]
    },
    {
     "name": "stdout",
     "output_type": "stream",
     "text": [
      "[7800]\ttrain-logloss:0.19680\tvalid-logloss:0.21954\n"
     ]
    },
    {
     "name": "stdout",
     "output_type": "stream",
     "text": [
      "[7900]\ttrain-logloss:0.19654\tvalid-logloss:0.21953\n"
     ]
    },
    {
     "name": "stdout",
     "output_type": "stream",
     "text": [
      "[8000]\ttrain-logloss:0.19629\tvalid-logloss:0.21951\n"
     ]
    },
    {
     "name": "stdout",
     "output_type": "stream",
     "text": [
      "[8100]\ttrain-logloss:0.19603\tvalid-logloss:0.21951\n"
     ]
    },
    {
     "name": "stdout",
     "output_type": "stream",
     "text": [
      "[8200]\ttrain-logloss:0.19577\tvalid-logloss:0.21950\n"
     ]
    },
    {
     "name": "stdout",
     "output_type": "stream",
     "text": [
      "[8300]\ttrain-logloss:0.19551\tvalid-logloss:0.21949\n"
     ]
    },
    {
     "name": "stdout",
     "output_type": "stream",
     "text": [
      "[8400]\ttrain-logloss:0.19524\tvalid-logloss:0.21948\n"
     ]
    },
    {
     "name": "stdout",
     "output_type": "stream",
     "text": [
      "[8500]\ttrain-logloss:0.19499\tvalid-logloss:0.21947\n"
     ]
    },
    {
     "name": "stdout",
     "output_type": "stream",
     "text": [
      "[8600]\ttrain-logloss:0.19474\tvalid-logloss:0.21946\n"
     ]
    },
    {
     "name": "stdout",
     "output_type": "stream",
     "text": [
      "[8700]\ttrain-logloss:0.19448\tvalid-logloss:0.21945\n"
     ]
    },
    {
     "name": "stdout",
     "output_type": "stream",
     "text": [
      "[8800]\ttrain-logloss:0.19423\tvalid-logloss:0.21944\n"
     ]
    },
    {
     "name": "stdout",
     "output_type": "stream",
     "text": [
      "[8900]\ttrain-logloss:0.19398\tvalid-logloss:0.21943\n"
     ]
    },
    {
     "name": "stdout",
     "output_type": "stream",
     "text": [
      "[9000]\ttrain-logloss:0.19373\tvalid-logloss:0.21942\n"
     ]
    },
    {
     "name": "stdout",
     "output_type": "stream",
     "text": [
      "[9100]\ttrain-logloss:0.19347\tvalid-logloss:0.21941\n"
     ]
    },
    {
     "name": "stdout",
     "output_type": "stream",
     "text": [
      "[9200]\ttrain-logloss:0.19323\tvalid-logloss:0.21941\n"
     ]
    },
    {
     "name": "stdout",
     "output_type": "stream",
     "text": [
      "[9300]\ttrain-logloss:0.19297\tvalid-logloss:0.21940\n"
     ]
    },
    {
     "name": "stdout",
     "output_type": "stream",
     "text": [
      "[9400]\ttrain-logloss:0.19273\tvalid-logloss:0.21939\n"
     ]
    },
    {
     "name": "stdout",
     "output_type": "stream",
     "text": [
      "[9500]\ttrain-logloss:0.19248\tvalid-logloss:0.21940\n"
     ]
    },
    {
     "name": "stdout",
     "output_type": "stream",
     "text": [
      "[9510]\ttrain-logloss:0.19245\tvalid-logloss:0.21940\n"
     ]
    },
    {
     "name": "stdout",
     "output_type": "stream",
     "text": [
      "Training time: 508.3883295059204\n"
     ]
    },
    {
     "name": "stderr",
     "output_type": "stream",
     "text": [
      "\u001b[32m[I 2022-07-31 05:46:18,465]\u001b[0m Trial 0 finished with value: 0.7906320540062097 and parameters: {'learning_rate': 0.011899155967261734, 'colsample_bytree': 0.2820238130125764, 'booster': 'gbtree', 'lambda': 0.08569031073095795, 'alpha': 2.5536747402042386e-08, 'max_depth': 3, 'eta': 0.029452038248850763, 'gamma': 0.0004146024307745867, 'grow_policy': 'lossguide'}. Best is trial 0 with value: 0.7906320540062097.\u001b[0m\n"
     ]
    },
    {
     "name": "stdout",
     "output_type": "stream",
     "text": [
      "Kaggle Metric =  0.7906320540062097 \n",
      "\n",
      "OVERALL CV Kaggle Metric =  0.7906320540062097\n"
     ]
    },
    {
     "name": "stdout",
     "output_type": "stream",
     "text": [
      "[0]\ttrain-logloss:0.67117\tvalid-logloss:0.67119\n"
     ]
    },
    {
     "name": "stdout",
     "output_type": "stream",
     "text": [
      "[100]\ttrain-logloss:0.24170\tvalid-logloss:0.24605\n"
     ]
    },
    {
     "name": "stdout",
     "output_type": "stream",
     "text": [
      "[200]\ttrain-logloss:0.22003\tvalid-logloss:0.22889\n"
     ]
    },
    {
     "name": "stdout",
     "output_type": "stream",
     "text": [
      "[300]\ttrain-logloss:0.21158\tvalid-logloss:0.22451\n"
     ]
    },
    {
     "name": "stdout",
     "output_type": "stream",
     "text": [
      "[400]\ttrain-logloss:0.20552\tvalid-logloss:0.22227\n"
     ]
    },
    {
     "name": "stdout",
     "output_type": "stream",
     "text": [
      "[500]\ttrain-logloss:0.20068\tvalid-logloss:0.22118\n"
     ]
    },
    {
     "name": "stdout",
     "output_type": "stream",
     "text": [
      "[600]\ttrain-logloss:0.19644\tvalid-logloss:0.22058\n"
     ]
    },
    {
     "name": "stdout",
     "output_type": "stream",
     "text": [
      "[700]\ttrain-logloss:0.19255\tvalid-logloss:0.22020\n"
     ]
    },
    {
     "name": "stdout",
     "output_type": "stream",
     "text": [
      "[800]\ttrain-logloss:0.18875\tvalid-logloss:0.21997\n"
     ]
    },
    {
     "name": "stdout",
     "output_type": "stream",
     "text": [
      "[900]\ttrain-logloss:0.18518\tvalid-logloss:0.21979\n"
     ]
    }
   ],
   "source": [
    "study = optuna.create_study(direction = \"maximize\")\n",
    "study.optimize(objective2, n_trials = 50)\n",
    "joblib.dump(study, 'study.pkl')"
   ]
  },
  {
   "cell_type": "code",
   "execution_count": null,
   "id": "698a6ea6",
   "metadata": {
    "papermill": {
     "duration": null,
     "end_time": null,
     "exception": null,
     "start_time": null,
     "status": "pending"
    },
    "tags": []
   },
   "outputs": [],
   "source": [
    "print(\"Number of finished trials: {}\".format(len(study.trials)))\n",
    "print(\"Best trial:\")\n",
    "trial = study.best_trial\n",
    "print(\"  Value: {}\".format(trial.value))\n",
    "print(\"  Params: \")\n",
    "for key, value in trial.params.items():\n",
    "    print(\"    {}: {}\".format(key, value))"
   ]
  }
 ],
 "metadata": {
  "kernelspec": {
   "display_name": "Python 3.9.6 64-bit",
   "language": "python",
   "name": "python3"
  },
  "language_info": {
   "codemirror_mode": {
    "name": "ipython",
    "version": 3
   },
   "file_extension": ".py",
   "mimetype": "text/x-python",
   "name": "python",
   "nbconvert_exporter": "python",
   "pygments_lexer": "ipython3",
   "version": "3.9.6"
  },
  "papermill": {
   "default_parameters": {},
   "duration": null,
   "end_time": null,
   "environment_variables": {},
   "exception": null,
   "input_path": "__notebook__.ipynb",
   "output_path": "__notebook__.ipynb",
   "parameters": {},
   "start_time": "2022-07-31T05:36:49.310020",
   "version": "2.3.4"
  },
  "vscode": {
   "interpreter": {
    "hash": "56ff1c1c3135541108fe132e771aa45bbbf614a992258041b003da88d6e3d5e1"
   }
  }
 },
 "nbformat": 4,
 "nbformat_minor": 5
}
