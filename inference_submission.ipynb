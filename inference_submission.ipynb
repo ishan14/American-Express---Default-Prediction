{
 "cells": [
  {
   "cell_type": "code",
   "execution_count": 1,
   "id": "af87a47f",
   "metadata": {
    "_cell_guid": "b1076dfc-b9ad-4769-8c92-a6c4dae69d19",
    "_uuid": "8f2839f25d086af736a60e9eeb907d3b93b6e0e5",
    "execution": {
     "iopub.execute_input": "2022-07-19T16:21:08.721442Z",
     "iopub.status.busy": "2022-07-19T16:21:08.720982Z",
     "iopub.status.idle": "2022-07-19T16:21:08.755763Z",
     "shell.execute_reply": "2022-07-19T16:21:08.754985Z"
    },
    "papermill": {
     "duration": 0.046233,
     "end_time": "2022-07-19T16:21:08.758742",
     "exception": false,
     "start_time": "2022-07-19T16:21:08.712509",
     "status": "completed"
    },
    "tags": []
   },
   "outputs": [
    {
     "name": "stdout",
     "output_type": "stream",
     "text": [
      "/kaggle/input/american-express-1/XBG_918_features_wo_imputation_fold4.xgb\n",
      "/kaggle/input/american-express-1/XBG_918_features_wo_imputation_fold3.xgb\n",
      "/kaggle/input/american-express-1/__results__.html\n",
      "/kaggle/input/american-express-1/XBG_918_features_wo_imputation_fold0.xgb\n",
      "/kaggle/input/american-express-1/__notebook_source__.ipynb\n",
      "/kaggle/input/american-express-1/XBG_918_features_wo_imputation_fold1.xgb\n",
      "/kaggle/input/american-express-1/__notebook__.ipynb\n",
      "/kaggle/input/american-express-1/__output__.json\n",
      "/kaggle/input/american-express-1/XBG_918_features_wo_imputation_fold2.xgb\n",
      "/kaggle/input/american-express-1/custom.css\n",
      "/kaggle/input/amex-credit/918_features_wo_imputation_2.parquet\n",
      "/kaggle/input/amex-credit/test_918_features_wo_imputation_2.csv\n",
      "/kaggle/input/amex-default-prediction/sample_submission.csv\n",
      "/kaggle/input/amex-default-prediction/train_data.csv\n",
      "/kaggle/input/amex-default-prediction/test_data.csv\n",
      "/kaggle/input/amex-default-prediction/train_labels.csv\n"
     ]
    }
   ],
   "source": [
    "# This Python 3 environment comes with many helpful analytics libraries installed\n",
    "# It is defined by the kaggle/python Docker image: https://github.com/kaggle/docker-python\n",
    "# For example, here's several helpful packages to load\n",
    "\n",
    "import numpy as np # linear algebra\n",
    "import pandas as pd # data processing, CSV file I/O (e.g. pd.read_csv)\n",
    "\n",
    "# Input data files are available in the read-only \"../input/\" directory\n",
    "# For example, running this (by clicking run or pressing Shift+Enter) will list all files under the input directory\n",
    "\n",
    "import os\n",
    "for dirname, _, filenames in os.walk('/kaggle/input'):\n",
    "    for filename in filenames:\n",
    "        print(os.path.join(dirname, filename))\n",
    "\n",
    "# You can write up to 20GB to the current directory (/kaggle/working/) that gets preserved as output when you create a version using \"Save & Run All\" \n",
    "# You can also write temporary files to /kaggle/temp/, but they won't be saved outside of the current session"
   ]
  },
  {
   "cell_type": "code",
   "execution_count": 2,
   "id": "af2d326a",
   "metadata": {
    "execution": {
     "iopub.execute_input": "2022-07-19T16:21:08.773220Z",
     "iopub.status.busy": "2022-07-19T16:21:08.772569Z",
     "iopub.status.idle": "2022-07-19T16:21:08.779007Z",
     "shell.execute_reply": "2022-07-19T16:21:08.778240Z"
    },
    "papermill": {
     "duration": 0.015732,
     "end_time": "2022-07-19T16:21:08.780908",
     "exception": false,
     "start_time": "2022-07-19T16:21:08.765176",
     "status": "completed"
    },
    "tags": []
   },
   "outputs": [],
   "source": [
    "def read_file(path, cols = None):\n",
    "    print(cols)\n",
    "    if cols is not None: \n",
    "        df = pd.read_csv(path, usecols = cols, compression = 'gzip')\n",
    "    else:\n",
    "        df = pd.read_csv(path, compression = 'gzip')\n",
    "        \n",
    "    df.S_2 = df.to_datetime(df.S_2)\n",
    "    return df\n",
    "\n",
    "def read_file1(path, cols = None):\n",
    "    df = pd.read_csv(path, usecols = ['customer_ID'], compression = 'gzip')\n",
    "    \n",
    "#     df.S_2 = df.to_datetime(df.S_2)\n",
    "    return df"
   ]
  },
  {
   "cell_type": "code",
   "execution_count": 3,
   "id": "2852c6f0",
   "metadata": {
    "execution": {
     "iopub.execute_input": "2022-07-19T16:21:08.794848Z",
     "iopub.status.busy": "2022-07-19T16:21:08.794313Z",
     "iopub.status.idle": "2022-07-19T16:24:02.283038Z",
     "shell.execute_reply": "2022-07-19T16:24:02.281930Z"
    },
    "papermill": {
     "duration": 173.49893,
     "end_time": "2022-07-19T16:24:02.285659",
     "exception": false,
     "start_time": "2022-07-19T16:21:08.786729",
     "status": "completed"
    },
    "tags": []
   },
   "outputs": [
    {
     "name": "stdout",
     "output_type": "stream",
     "text": [
      "We will process test data as 10 separate parts.\n",
      "There will be 92462 customers in each part (except the last part).\n",
      "Below are number of rows in each part:\n"
     ]
    }
   ],
   "source": [
    "def get_rows(customers, test, NUM_PARTS = 4, verbose = ''):\n",
    "    chunk = len(customers) // NUM_PARTS\n",
    "    if verbose != '':\n",
    "        print(f'We will process {verbose} data as {NUM_PARTS} separate parts.')\n",
    "        print(f'There will be {chunk} customers in each part (except the last part).')\n",
    "        print('Below are number of rows in each part:')\n",
    "    rows = []\n",
    "    \n",
    "    for k in range(NUM_PARTS):\n",
    "        if k==NUM_PARTS-1: cc = customers[k*chunk:]\n",
    "        else: cc = customers[k*chunk:(k+1)*chunk]\n",
    "        s = test.loc[test.customer_ID.isin(cc)].shape[0]\n",
    "        rows.append(s)        \n",
    "    return rows,chunk\n",
    "\n",
    "NUM_PARTS = 10\n",
    "TEST_PATH = '/kaggle/input/amex-credit/test_918_features_wo_imputation_2.csv'\n",
    "\n",
    "test = read_file1(path = TEST_PATH, cols = ['customer_ID','S_2'])\n",
    "customers = test[['customer_ID']].drop_duplicates().sort_index().values.flatten()\n",
    "rows,num_cust = get_rows(customers, test[['customer_ID']], NUM_PARTS = NUM_PARTS, verbose = 'test')\n"
   ]
  },
  {
   "cell_type": "code",
   "execution_count": null,
   "id": "61209d25",
   "metadata": {
    "execution": {
     "iopub.execute_input": "2022-07-19T15:14:49.311403Z",
     "iopub.status.busy": "2022-07-19T15:14:49.310940Z",
     "iopub.status.idle": "2022-07-19T15:14:50.346643Z",
     "shell.execute_reply": "2022-07-19T15:14:50.345427Z",
     "shell.execute_reply.started": "2022-07-19T15:14:49.311359Z"
    },
    "papermill": {
     "duration": null,
     "end_time": null,
     "exception": null,
     "start_time": null,
     "status": "completed"
    },
    "tags": []
   },
   "outputs": [],
   "source": [
    "import time\n",
    "import gc\n",
    "import xgboost as xgb"
   ]
  },
  {
   "cell_type": "code",
   "execution_count": null,
   "id": "77d6eccf",
   "metadata": {
    "execution": {
     "iopub.execute_input": "2022-07-19T15:43:38.600477Z",
     "iopub.status.busy": "2022-07-19T15:43:38.600064Z",
     "iopub.status.idle": "2022-07-19T15:45:58.701803Z",
     "shell.execute_reply": "2022-07-19T15:45:58.700677Z",
     "shell.execute_reply.started": "2022-07-19T15:43:38.600445Z"
    },
    "papermill": {
     "duration": null,
     "end_time": null,
     "exception": null,
     "start_time": null,
     "status": "completed"
    },
    "tags": []
   },
   "outputs": [],
   "source": [
    "def get_num_rows(df):\n",
    "    print(\"Started reading file\")\n",
    "    start = time.time()\n",
    "    data = pd.read_csv(df, usecols = [\"customer_ID\"], compression = 'gzip')\n",
    "    print(f\"Time taken to read file {time.time() - start}\")\n",
    "    customers = data[['customer_ID']].drop_duplicates().sort_index().values.flatten()\n",
    "    size = len(data)\n",
    "    del data\n",
    "    return customers, size\n",
    "\n",
    "TEST_PATH = '/kaggle/input/amex-credit/test_918_features_wo_imputation_2.csv'\n",
    "customers, total_samples = get_num_rows(TEST_PATH)"
   ]
  },
  {
   "cell_type": "code",
   "execution_count": null,
   "id": "ab9e7b2a",
   "metadata": {
    "execution": {
     "iopub.execute_input": "2022-07-19T15:15:37.927161Z",
     "iopub.status.busy": "2022-07-19T15:15:37.926700Z",
     "iopub.status.idle": "2022-07-19T15:15:37.934128Z",
     "shell.execute_reply": "2022-07-19T15:15:37.932726Z",
     "shell.execute_reply.started": "2022-07-19T15:15:37.927128Z"
    },
    "papermill": {
     "duration": null,
     "end_time": null,
     "exception": null,
     "start_time": null,
     "status": "completed"
    },
    "tags": []
   },
   "outputs": [],
   "source": [
    "chunk_size = 1e4\n",
    "rounds = total_samples // chunk_size + 1\n",
    "FOLDS = 5"
   ]
  },
  {
   "cell_type": "code",
   "execution_count": null,
   "id": "cdd94f05",
   "metadata": {
    "execution": {
     "iopub.execute_input": "2022-07-19T15:18:01.874522Z",
     "iopub.status.busy": "2022-07-19T15:18:01.874024Z",
     "iopub.status.idle": "2022-07-19T15:25:13.145304Z",
     "shell.execute_reply": "2022-07-19T15:25:13.143937Z",
     "shell.execute_reply.started": "2022-07-19T15:18:01.874485Z"
    },
    "papermill": {
     "duration": null,
     "end_time": null,
     "exception": null,
     "start_time": null,
     "status": "completed"
    },
    "tags": []
   },
   "outputs": [],
   "source": [
    "test_preds = []\n",
    "\n",
    "data = pd.read_csv(TEST_PATH, chunksize = chunk_size, compression = 'gzip')\n",
    "\n",
    "for r, chunk in enumerate(data): \n",
    "    print(f\"Reading chunk: {r}\")\n",
    "    start = time.time()\n",
    "    features = chunk.columns[1:]\n",
    "    X_test = chunk[features]\n",
    "    print(f\"Shape of test data: {X_test.shape}\")\n",
    "    dtest = xgb.DMatrix(data = X_test)\n",
    "    \n",
    "    del chunk, X_test\n",
    "    gc.collect()\n",
    "    \n",
    "    preds = []\n",
    "    model = xgb.Booster()\n",
    "    model.load_model(f'/kaggle/input/american-express-1/XBG_918_features_wo_imputation_fold0.xgb')\n",
    "    preds = model.predict(dtest)\n",
    "    for fold in range(1, FOLDS):\n",
    "        model.load_model(f'/kaggle/input/american-express-1/XBG_918_features_wo_imputation_fold{fold}.xgb')\n",
    "        preds += model.predict(dtest)\n",
    "        \n",
    "    preds /= FOLDS\n",
    "    test_preds.append(preds)\n",
    "    \n",
    "    del dtest, model\n",
    "    gc.collect()\n",
    "    print(f\"Total processing time: {time.time() - start}\")\n",
    "    "
   ]
  },
  {
   "cell_type": "code",
   "execution_count": null,
   "id": "b43ac8b8",
   "metadata": {
    "execution": {
     "iopub.execute_input": "2022-07-19T15:41:33.104905Z",
     "iopub.status.busy": "2022-07-19T15:41:33.104416Z",
     "iopub.status.idle": "2022-07-19T15:41:33.114814Z",
     "shell.execute_reply": "2022-07-19T15:41:33.113209Z",
     "shell.execute_reply.started": "2022-07-19T15:41:33.104870Z"
    },
    "papermill": {
     "duration": null,
     "end_time": null,
     "exception": null,
     "start_time": null,
     "status": "completed"
    },
    "tags": []
   },
   "outputs": [],
   "source": [
    "test_preds = np.concatenate(test_preds)"
   ]
  },
  {
   "cell_type": "code",
   "execution_count": null,
   "id": "e51ea155",
   "metadata": {
    "execution": {
     "iopub.execute_input": "2022-07-19T15:41:58.381905Z",
     "iopub.status.busy": "2022-07-19T15:41:58.381520Z",
     "iopub.status.idle": "2022-07-19T15:41:58.390425Z",
     "shell.execute_reply": "2022-07-19T15:41:58.389417Z",
     "shell.execute_reply.started": "2022-07-19T15:41:58.381874Z"
    },
    "papermill": {
     "duration": null,
     "end_time": null,
     "exception": null,
     "start_time": null,
     "status": "completed"
    },
    "tags": []
   },
   "outputs": [],
   "source": [
    "np.save('918_features_wo_imputation.npy', test_preds)\n"
   ]
  },
  {
   "cell_type": "code",
   "execution_count": null,
   "id": "de86120e",
   "metadata": {
    "execution": {
     "iopub.execute_input": "2022-07-19T15:47:29.450230Z",
     "iopub.status.busy": "2022-07-19T15:47:29.449767Z",
     "iopub.status.idle": "2022-07-19T15:47:29.457914Z",
     "shell.execute_reply": "2022-07-19T15:47:29.456789Z",
     "shell.execute_reply.started": "2022-07-19T15:47:29.450194Z"
    },
    "papermill": {
     "duration": null,
     "end_time": null,
     "exception": null,
     "start_time": null,
     "status": "completed"
    },
    "tags": []
   },
   "outputs": [],
   "source": [
    "test = pd.DataFrame(index = customers, data = {'prediction': test_preds})"
   ]
  },
  {
   "cell_type": "code",
   "execution_count": null,
   "id": "555b5177",
   "metadata": {
    "execution": {
     "iopub.execute_input": "2022-07-19T15:49:24.301724Z",
     "iopub.status.busy": "2022-07-19T15:49:24.301312Z",
     "iopub.status.idle": "2022-07-19T15:49:25.869134Z",
     "shell.execute_reply": "2022-07-19T15:49:25.867710Z",
     "shell.execute_reply.started": "2022-07-19T15:49:24.301692Z"
    },
    "papermill": {
     "duration": null,
     "end_time": null,
     "exception": null,
     "start_time": null,
     "status": "completed"
    },
    "tags": []
   },
   "outputs": [],
   "source": [
    "sub = pd.read_csv(\"/kaggle/input/amex-default-prediction/sample_submission.csv\")[['customer_ID']]\n",
    "sub = sub.set_index('customer_ID')"
   ]
  },
  {
   "cell_type": "code",
   "execution_count": null,
   "id": "00e12a2d",
   "metadata": {
    "execution": {
     "iopub.execute_input": "2022-07-19T15:49:33.407694Z",
     "iopub.status.busy": "2022-07-19T15:49:33.407274Z",
     "iopub.status.idle": "2022-07-19T15:49:33.821080Z",
     "shell.execute_reply": "2022-07-19T15:49:33.819982Z",
     "shell.execute_reply.started": "2022-07-19T15:49:33.407663Z"
    },
    "papermill": {
     "duration": null,
     "end_time": null,
     "exception": null,
     "start_time": null,
     "status": "completed"
    },
    "tags": []
   },
   "outputs": [],
   "source": [
    "sub = sub.merge(test[['prediction']], left_index = True, right_index = True, how = 'left')\n",
    "# sub = sub.reset_index(drop=True)\n"
   ]
  },
  {
   "cell_type": "code",
   "execution_count": null,
   "id": "873f1fef",
   "metadata": {
    "execution": {
     "iopub.execute_input": "2022-07-19T15:50:15.193610Z",
     "iopub.status.busy": "2022-07-19T15:50:15.193111Z",
     "iopub.status.idle": "2022-07-19T15:50:15.221964Z",
     "shell.execute_reply": "2022-07-19T15:50:15.220986Z",
     "shell.execute_reply.started": "2022-07-19T15:50:15.193565Z"
    },
    "papermill": {
     "duration": null,
     "end_time": null,
     "exception": null,
     "start_time": null,
     "status": "completed"
    },
    "tags": []
   },
   "outputs": [],
   "source": [
    "sub = sub.reset_index()"
   ]
  },
  {
   "cell_type": "code",
   "execution_count": null,
   "id": "ed6e4403",
   "metadata": {
    "execution": {
     "iopub.execute_input": "2022-07-19T16:19:50.448432Z",
     "iopub.status.busy": "2022-07-19T16:19:50.448060Z",
     "iopub.status.idle": "2022-07-19T16:19:55.458980Z",
     "shell.execute_reply": "2022-07-19T16:19:55.457824Z",
     "shell.execute_reply.started": "2022-07-19T16:19:50.448399Z"
    },
    "papermill": {
     "duration": null,
     "end_time": null,
     "exception": null,
     "start_time": null,
     "status": "completed"
    },
    "tags": []
   },
   "outputs": [],
   "source": [
    "sub.to_csv('submission.csv', index = False)\n",
    "print(f'Submission file shape: {sub.shape}')\n",
    "sub.head()"
   ]
  },
  {
   "cell_type": "code",
   "execution_count": null,
   "id": "611e2a3a",
   "metadata": {
    "papermill": {
     "duration": null,
     "end_time": null,
     "exception": null,
     "start_time": null,
     "status": "completed"
    },
    "tags": []
   },
   "outputs": [],
   "source": []
  }
 ],
 "metadata": {
  "kernelspec": {
   "display_name": "Python 3.9.6 64-bit",
   "language": "python",
   "name": "python3"
  },
  "language_info": {
   "codemirror_mode": {
    "name": "ipython",
    "version": 3
   },
   "file_extension": ".py",
   "mimetype": "text/x-python",
   "name": "python",
   "nbconvert_exporter": "python",
   "pygments_lexer": "ipython3",
   "version": "3.9.6"
  },
  "papermill": {
   "default_parameters": {},
   "duration": 428.133679,
   "end_time": "2022-07-19T16:28:06.874573",
   "environment_variables": {},
   "exception": null,
   "input_path": "__notebook__.ipynb",
   "output_path": "__notebook__.ipynb",
   "parameters": {},
   "start_time": "2022-07-19T16:20:58.740894",
   "version": "2.3.4"
  },
  "vscode": {
   "interpreter": {
    "hash": "56ff1c1c3135541108fe132e771aa45bbbf614a992258041b003da88d6e3d5e1"
   }
  }
 },
 "nbformat": 4,
 "nbformat_minor": 5
}
